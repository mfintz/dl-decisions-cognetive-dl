{
 "cells": [
  {
   "cell_type": "code",
   "execution_count": 1,
   "metadata": {
    "scrolled": true
   },
   "outputs": [
    {
     "data": {
      "text/html": [
       "<style>.container { width:100% !important; }</style>"
      ],
      "text/plain": [
       "<IPython.core.display.HTML object>"
      ]
     },
     "metadata": {},
     "output_type": "display_data"
    }
   ],
   "source": [
    "from IPython.core.display import display, HTML\n",
    "display(HTML(\"<style>.container { width:100% !important; }</style>\"))\n",
    "\n",
    "import math\n",
    "import random\n",
    "import numpy as np\n",
    "import pandas as pd\n",
    "import pickle\n",
    "import matplotlib.pyplot as plt\n",
    "import datetime as dt\n",
    "import os\n",
    "\n",
    "from scipy.spatial import distance"
   ]
  },
  {
   "cell_type": "code",
   "execution_count": 2,
   "metadata": {
    "scrolled": true
   },
   "outputs": [],
   "source": [
    "import matplotlib as mpl\n",
    "mpl.use('svg')\n",
    "new_rc_params = {\n",
    "    \"font.size\": 20, #choosing the font size helps latex to place all the labels, ticks etc. in the right place\n",
    "    \"svg.fonttype\": 'none',\n",
    "    'figure.max_open_warning': 0\n",
    "} \n",
    "mpl.rcParams.update(new_rc_params)\n",
    "#     \"font.weight\":700\n",
    "plt.rcParams['axes.facecolor'] = '0.95'\n",
    "\n",
    "my_font_dict = {\n",
    "        'size': 20,\n",
    "        }"
   ]
  },
  {
   "cell_type": "code",
   "execution_count": 3,
   "metadata": {
    "scrolled": true
   },
   "outputs": [],
   "source": [
    "saving_dir = \"simulations_paper_addition\"\n",
    "if not os.path.exists(saving_dir):\n",
    "    os.makedirs(saving_dir)\n",
    "\n",
    "# fix random seed for reproducibility\n",
    "np.random.seed(7)\n",
    "# set_random_seed(7)"
   ]
  },
  {
   "cell_type": "code",
   "execution_count": 4,
   "metadata": {},
   "outputs": [],
   "source": [
    "def convert_to_array(csv_cell_string):\n",
    "    \"\"\"\n",
    "    Gets a string that looks like an array, and returns an actual array\n",
    "    \"\"\"\n",
    "    return np.fromstring(csv_cell_string.replace('[','').replace(']',''), sep=',')"
   ]
  },
  {
   "cell_type": "code",
   "execution_count": 5,
   "metadata": {},
   "outputs": [],
   "source": [
    "# load simulation results\n",
    "general_output = pd.read_csv(os.path.join(saving_dir,'general_output_softmax_values_V5.1_paper_addition.csv'),index_col=0)\n",
    "qlearning_output = pd.read_csv(os.path.join(saving_dir, 'qlearning_output_softmax_values_V5.1_paper_addition.csv'),index_col=0)\n",
    "no_reward_output = pd.read_csv(os.path.join(saving_dir,'no_reward_output_softmax_values_V5.1_paper_addition.csv'),index_col=0)\n",
    "\n",
    "# convert to arrays\n",
    "general_output_df = general_output.applymap(convert_to_array)\n",
    "qlearning_output_df = qlearning_output.applymap(convert_to_array)\n",
    "no_reward_output_df = no_reward_output.applymap(convert_to_array)"
   ]
  },
  {
   "cell_type": "markdown",
   "metadata": {},
   "source": [
    "#### convetion : simulation input will be 1-4 , predictions are actually 0-3 and so converted to 1-4\n",
    "##### (the model gets 0-3 and outpus 0-3)"
   ]
  },
  {
   "cell_type": "code",
   "execution_count": 7,
   "metadata": {
    "scrolled": true
   },
   "outputs": [],
   "source": [
    "def produce_comparison_df(full_df, maybe_full_df, dist_func):\n",
    "    \"\"\"\n",
    "    Distance compare. Gets 2 dataframes (ideally holds the simulation results) and calculate a difference based on a distance function (dist_func).\n",
    "    The 2 dataframes should be in the same shape.\n",
    "    \"\"\"\n",
    "    softmax_compare = []\n",
    "    for a_row, b_row in zip(full_df.to_numpy(), maybe_full_df.to_numpy()):\n",
    "        row_predictions_compare = []\n",
    "        for a_out, b_out in zip(a_row, b_row):\n",
    "            row_predictions_compare.append(dist_func(a_out, b_out))\n",
    "        softmax_compare.append(row_predictions_compare)\n",
    "    predict_compare_df = pd.DataFrame(np.asmatrix(softmax_compare), index=full_df.index, columns=full_df.columns)\n",
    "    return predict_compare_df"
   ]
  },
  {
   "cell_type": "code",
   "execution_count": 8,
   "metadata": {
    "scrolled": true
   },
   "outputs": [],
   "source": [
    "################## V5.1 FULL #############################\n",
    "#  Also, not plotting one_different pattern row\n",
    "##########################################################\n",
    "# Patterns:\n",
    "constant_group = ['1 1 1 1', '2 2 2 2', '3 3 3 3', '4 4 4 4']\n",
    "one_different = ['2 2 2 1', '4 2 2 2', '2 2 2 4', '1 2 2 2', '3 2 2 2', '2 3 3 3', '2 1 1 1']\n",
    "repeating_two = ['1 2 1 2', '2 1 2 1', '2 3 2 3', '3 2 3 2', '4 3 4 3', '3 4 3 4']\n",
    "all_different = ['1 2 3 4', '4 3 2 1', '2 3 4 1', '1 4 3 2', '3 4 1 2', '2 1 4 3', '4 1 2 3', '3 2 1 4']\n",
    "\n",
    "all_patterns_groups = [constant_group, one_different, repeating_two, all_different]\n",
    "\n",
    "\n",
    "# Rewards:\n",
    "constant_group_rew = ['10 10 10 10', '15 15 15 15', '20 20 20 20', '25 25 25 25', '30 30 30 30', '35 35 35 35',\n",
    "                      '40 40 40 40', '45 45 45 45', '50 50 50 50', '55 55 55 55', '60 60 60 60', '65 65 65 65',\n",
    "                      '70 70 70 70', '75 75 75 75', '80 80 80 80', '85 85 85 85', '90 90 90 90']\n",
    "\n",
    "ascending_rew = ['10 20 30 40', '15 20 25 30', '10 30 50 70', '10 40 70 90', '30 35 40 45', '45 50 55 65',\n",
    "                 '50 55 65 75', '55 65 75 85', '65 75 85 95', '75 80 85 90', '10 15 20 25', '25 45 65 85',\n",
    "                 '40 60 80 90', '60 70 80 90', '20 30 70 80', '40 50 60 70', '50 60 70 80']\n",
    "\n",
    "descending_rew = ['90 80 70 60', '80 70 60 50', '70 60 50 40', '60 50 40 30', '50 40 30 20', '40 30 20 10',\n",
    "                  '90 70 50 30', '70 50 30 10', '95 75 55 35', '75 55 35 15', '80 60 40 20', '85 65 45 25',\n",
    "                  '90 70 40 10', '90 60 30 10', '90 50 30 10', '90 40 30 20', '90 30 20 10', '60 30 20 10']\n",
    "\n",
    "\n",
    "one_different_rew_good = ['10 10 10 90', '20 20 20 90', '30 30 30 90', '40 40 40 90', '50 50 50 90', '60 60 60 90', \n",
    "                          '10 10 90 10', '20 20 90 20', '30 30 90 30', '40 40 90 40', '50 50 90 50', '20 80 20 20',\n",
    "                          '30 90 30 30', '60 90 60 60', '80 20 20 20', '90 30 30 30', '90 40 40 40', '90 50 50 50',\n",
    "                          '20 20 20 80', '40 40 40 80', '60 60 60 80', '20 20 20 40', '40 40 40 60', '20 20 20 60',\n",
    "                          '20 20 80 20', '40 40 80 40', '60 60 80 40', '20 20 40 20', '40 40 60 40', '20 20 60 20',\n",
    "                          '20 80 20 20', '40 80 40 40', '60 80 60 60', '20 40 20 20', '40 60 40 40', '20 60 20 20',\n",
    "                          '80 20 20 20', '80 40 40 40', '80 60 60 60', '40 20 20 20', '60 40 40 40', '60 20 20 20']\n",
    "\n",
    "\n",
    "one_different_rew_bad = ['90 90 90 10', '90 90 90 20', '90 90 90 30', '90 90 90 40', '90 90 90 50', '90 90 90 60',\n",
    "                         '90 90 10 90', '90 90 20 90', '90 90 30 90', '90 90 40 90', '90 90 50 90', '80 20 80 80',\n",
    "                         '90 30 90 90', '90 60 90 90', '20 80 80 80', '30 90 90 90', '40 90 90 90', '50 90 90 90',\n",
    "                         '80 80 80 20', '80 80 80 40', '80 80 80 60', '40 40 40 20', '60 60 60 40', '60 60 60 20',\n",
    "                         '80 80 20 80', '80 80 40 80', '80 80 60 80', '40 40 20 40', '60 60 40 60', '60 60 20 60',\n",
    "                         '80 20 80 80', '80 40 80 80', '80 60 80 80', '40 20 40 40', '60 40 60 60', '60 20 60 60',\n",
    "                         '20 80 80 80', '40 80 80 80', '60 80 80 80', '20 40 40 40', '40 60 60 60', '20 60 60 60']\n",
    "\n",
    "\n",
    "all_rewards_groups = [constant_group_rew, ascending_rew, descending_rew, one_different_rew_good, one_different_rew_bad]"
   ]
  },
  {
   "cell_type": "code",
   "execution_count": 9,
   "metadata": {
    "scrolled": true
   },
   "outputs": [],
   "source": [
    "all_rewards = []\n",
    "for i in all_rewards_groups:\n",
    "    for j in i:\n",
    "        all_rewards.append(j)\n",
    "        \n",
    "all_patterns = []\n",
    "for i in all_patterns_groups:\n",
    "    for j in i:\n",
    "        all_patterns.append(j)"
   ]
  },
  {
   "cell_type": "code",
   "execution_count": 10,
   "metadata": {
    "scrolled": true
   },
   "outputs": [],
   "source": [
    "def get_res_table(compare_df, reward_groups, pattern_groups, dim=(4,7), remove_one_diff_pattern=True):\n",
    "    \"\"\"\n",
    "    compare_df: output from produce_comparison_df()\n",
    "    reward_groups, pattern_groups: the input groups for the simulation.\n",
    "    Return the average of the groups, ready to be plotted\n",
    "    \"\"\"\n",
    "    res = np.zeros(dim)\n",
    "    for col_ind, col in enumerate(reward_groups):\n",
    "\n",
    "        for group_ind, group in enumerate(pattern_groups):\n",
    "            group_avg = []\n",
    "            for idx in group:\n",
    "                group_avg.append(np.average(compare_df.loc[idx,col]))\n",
    "\n",
    "            res[group_ind,col_ind] = np.average(group_avg)\n",
    "\n",
    "    res = pd.DataFrame(res,index=['constant','one different','repeating two','all different'],\n",
    "                   columns=['constant reward','ascending reward','descending reward','one different good reward', 'one different bad reward'])\n",
    "    if remove_one_diff_pattern:\n",
    "        res.drop(index='one different', inplace=True)\n",
    "\n",
    "    return res"
   ]
  },
  {
   "cell_type": "code",
   "execution_count": 11,
   "metadata": {
    "scrolled": true
   },
   "outputs": [],
   "source": [
    "def produce_consent_table(res_table, title):\n",
    "#     title = \"custom prediction comparison - Generated vs Original data - IN GROUPS V4\"\n",
    "    my_pcolor_font_dict = {\n",
    "        'size': 36,\n",
    "        'weight': 'bold',\n",
    "    }\n",
    "    xlabel= \"Reward group\"\n",
    "    ylabel= \"Pattern group\"\n",
    "    data =  np.asarray(res_table)\n",
    "    text_val = np.asmatrix(res_table)\n",
    "    plt.clf()\n",
    "    fig = plt.gcf()\n",
    "    plt.figure(figsize=(30, 15))\n",
    "    plt.title(title)\n",
    "    plt.xlabel(xlabel,fontsize=26)\n",
    "    plt.ylabel(ylabel,fontsize=26)\n",
    "    plt.xticks(range(0,res_table.shape[1]),res_table.columns, fontsize=20)\n",
    "    y_ticks=plt.yticks(range(0,res_table.shape[0]),res_table.index, fontsize=20)\n",
    "    c = plt.pcolor(data, edgecolors='k', linewidths=4, cmap='RdBu', vmin=0.0, vmax=1.0)\n",
    "\n",
    "    def show_values(pc, fmt=\"%.2f\", **kw):\n",
    "        pc.update_scalarmappable()\n",
    "        ax = pc.axes\n",
    "        it = np.nditer(text_val[::,:].ravel(), flags=['f_index'])\n",
    "        for p, color, value in zip(pc.get_paths(), pc.get_facecolors(), pc.get_array()):\n",
    "            x, y = p.vertices[:-2, :].mean(0)\n",
    "\n",
    "            if np.all(color[:3] > 0.5):\n",
    "                color = (0.0, 0.0, 0.0)\n",
    "            else:\n",
    "                color = (1.0, 1.0, 1.0)\n",
    "            ax.text(x, y, format(it[0],'.3f'), ha=\"center\", va=\"center\", color=color,fontsize=26,fontdict=my_pcolor_font_dict, **kw)\n",
    "            it.iternext()\n",
    "    show_values(c)\n",
    "\n",
    "    plt.colorbar(c, aspect=10, pad=0.02)\n",
    "    \n",
    "    plt.savefig(os.path.join(saving_dir, title.replace(' ','_')+'.svg'),quality=95,dpi=200, format='svg')"
   ]
  },
  {
   "cell_type": "markdown",
   "metadata": {},
   "source": [
    " - General vs reward-oriented\n",
    " - General vs no-reward\n",
    " - Reward Oriented vs no-reward "
   ]
  },
  {
   "cell_type": "markdown",
   "metadata": {},
   "source": [
    "### no reward vs general"
   ]
  },
  {
   "cell_type": "code",
   "execution_count": 12,
   "metadata": {},
   "outputs": [
    {
     "name": "stderr",
     "output_type": "stream",
     "text": [
      "<ipython-input-12-350829951908>:3: PerformanceWarning: DataFrame is highly fragmented.  This is usually the result of calling `frame.insert` many times, which has poor performance.  Consider using pd.concat instead.  To get a de-fragmented frame, use `newframe = frame.copy()`\n",
      "  no_reward_output_df[col] = no_reward_output_df['output']\n"
     ]
    }
   ],
   "source": [
    "# stretch no-reward to be the same shape as general\n",
    "for col in general_output_df.columns:\n",
    "    no_reward_output_df[col] = no_reward_output_df['output']\n",
    "no_reward_output_df.drop(columns=['output'],inplace=True)"
   ]
  },
  {
   "cell_type": "code",
   "execution_count": 13,
   "metadata": {},
   "outputs": [],
   "source": [
    "nr_gen_compare_df = produce_comparison_df(general_output_df, no_reward_output_df, dist_func=distance.euclidean)"
   ]
  },
  {
   "cell_type": "code",
   "execution_count": 14,
   "metadata": {
    "scrolled": true
   },
   "outputs": [],
   "source": [
    "nr_gen_compare_df.to_csv(os.path.join(saving_dir,'reward_oblivious_vs_general_distance.csv'))"
   ]
  },
  {
   "cell_type": "code",
   "execution_count": 15,
   "metadata": {},
   "outputs": [],
   "source": [
    "nr_gen_compare_res = get_res_table(nr_gen_compare_df,reward_groups=all_rewards_groups,pattern_groups=all_patterns_groups, dim=(4,5))"
   ]
  },
  {
   "cell_type": "code",
   "execution_count": 16,
   "metadata": {},
   "outputs": [],
   "source": [
    "nr_gen_compare_res.to_csv(os.path.join(saving_dir,'reward_oblivious_vs_general_distance_group_avg.csv'))"
   ]
  },
  {
   "cell_type": "code",
   "execution_count": 17,
   "metadata": {
    "scrolled": true
   },
   "outputs": [
    {
     "name": "stderr",
     "output_type": "stream",
     "text": [
      "<ipython-input-11-2bbc6fd668fd>:38: MatplotlibDeprecationWarning: savefig() got unexpected keyword argument \"quality\" which is no longer supported as of 3.3 and will become an error two minor releases later\n",
      "  plt.savefig(os.path.join(saving_dir, title.replace(' ','_')+'.svg'),quality=95,dpi=200, format='svg')\n"
     ]
    }
   ],
   "source": [
    "produce_consent_table(nr_gen_compare_res, title=\"No-Reward VS General model distance\")"
   ]
  },
  {
   "cell_type": "markdown",
   "metadata": {},
   "source": [
    "-------------------------"
   ]
  },
  {
   "cell_type": "markdown",
   "metadata": {},
   "source": [
    "## qlearning model vs others"
   ]
  },
  {
   "cell_type": "code",
   "execution_count": 19,
   "metadata": {
    "scrolled": true
   },
   "outputs": [],
   "source": [
    "gen_qlearn_compare_df = produce_comparison_df(general_output_df, qlearning_output_df, dist_func=distance.euclidean)\n",
    "gen_qlearn_compare_df.to_csv(os.path.join(saving_dir,'general_vs_reward_oriented_distance.csv'))\n",
    "gen_qlearn_compare_res = get_res_table(gen_qlearn_compare_df,reward_groups=all_rewards_groups,pattern_groups=all_patterns_groups, dim=(4,5))\n",
    "gen_qlearn_compare_res.to_csv(os.path.join(saving_dir,'general_vs_reward_oriented_distance_group_avg.csv'))\n",
    "\n",
    "no_reward_qlearn_compare_df = produce_comparison_df(no_reward_output_df, qlearning_output_df, dist_func=distance.euclidean)\n",
    "no_reward_qlearn_compare_df.to_csv(os.path.join(saving_dir,'reward_oblivious_vs_reward_oriented_distance_group_avg.csv'))\n",
    "no_reward_qlearn_compare_res = get_res_table(no_reward_qlearn_compare_df,reward_groups=all_rewards_groups,pattern_groups=all_patterns_groups, dim=(4,5))\n",
    "# no_reward_qlearn_compare_res.to_csv(os.path.join(saving_dir,'reward_oblivious_vs_reward_oriented_distance.csv'))\n",
    "\n",
    "produce_consent_table(gen_qlearn_compare_res, title=\"General VS Qlearning model distance\")\n",
    "\n",
    "produce_consent_table(no_reward_qlearn_compare_res, title=\"No-Reward VS Qlearning model distance\")\n"
   ]
  }
 ],
 "metadata": {
  "kernelspec": {
   "display_name": "ident",
   "language": "python",
   "name": "ident"
  },
  "language_info": {
   "codemirror_mode": {
    "name": "ipython",
    "version": 3
   },
   "file_extension": ".py",
   "mimetype": "text/x-python",
   "name": "python",
   "nbconvert_exporter": "python",
   "pygments_lexer": "ipython3",
   "version": "3.8.11"
  }
 },
 "nbformat": 4,
 "nbformat_minor": 2
}
