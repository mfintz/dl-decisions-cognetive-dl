{
 "cells": [
  {
   "cell_type": "code",
   "execution_count": 1,
   "metadata": {
    "scrolled": true
   },
   "outputs": [
    {
     "data": {
      "text/html": [
       "<style>.container { width:100% !important; }</style>"
      ],
      "text/plain": [
       "<IPython.core.display.HTML object>"
      ]
     },
     "metadata": {},
     "output_type": "display_data"
    }
   ],
   "source": [
    "from IPython.core.display import display, HTML\n",
    "display(HTML(\"<style>.container { width:100% !important; }</style>\"))\n",
    "\n",
    "import math\n",
    "import random\n",
    "import numpy as np\n",
    "import pandas as pd\n",
    "import pickle\n",
    "import matplotlib.pyplot as plt\n",
    "import datetime as dt\n",
    "import os\n",
    "\n",
    "from scipy.spatial import distance\n",
    "from scipy import special"
   ]
  },
  {
   "cell_type": "code",
   "execution_count": 2,
   "metadata": {
    "scrolled": true
   },
   "outputs": [],
   "source": [
    "import matplotlib as mpl\n",
    "mpl.use('svg')\n",
    "new_rc_params = {\n",
    "    \"font.size\": 20, #choosing the font size helps latex to place all the labels, ticks etc. in the right place\n",
    "    \"svg.fonttype\": 'none',\n",
    "    'figure.max_open_warning': 0\n",
    "} \n",
    "mpl.rcParams.update(new_rc_params)\n",
    "#     \"font.weight\":700\n",
    "plt.rcParams['axes.facecolor'] = '0.95'\n",
    "\n",
    "my_font_dict = {\n",
    "        'size': 20,\n",
    "        }"
   ]
  },
  {
   "cell_type": "code",
   "execution_count": 3,
   "metadata": {
    "scrolled": true
   },
   "outputs": [
    {
     "ename": "FileNotFoundError",
     "evalue": "[Errno 2] No such file or directory: 'pd_list_full_with_rewards_original_seq4.pkl'",
     "output_type": "error",
     "traceback": [
      "\u001b[1;31m---------------------------------------------------------------------------\u001b[0m",
      "\u001b[1;31mFileNotFoundError\u001b[0m                         Traceback (most recent call last)",
      "\u001b[1;32m<ipython-input-3-1432586a6ec8>\u001b[0m in \u001b[0;36m<module>\u001b[1;34m\u001b[0m\n\u001b[0;32m     23\u001b[0m \u001b[1;33m\u001b[0m\u001b[0m\n\u001b[0;32m     24\u001b[0m \u001b[0mseq_length\u001b[0m \u001b[1;33m=\u001b[0m \u001b[1;36m4\u001b[0m\u001b[1;33m\u001b[0m\u001b[1;33m\u001b[0m\u001b[0m\n\u001b[1;32m---> 25\u001b[1;33m \u001b[1;32mwith\u001b[0m \u001b[0mopen\u001b[0m\u001b[1;33m(\u001b[0m\u001b[1;34m'pd_list_full_with_rewards_original_seq4.pkl'\u001b[0m\u001b[1;33m,\u001b[0m \u001b[1;34m'rb'\u001b[0m\u001b[1;33m)\u001b[0m \u001b[1;32mas\u001b[0m \u001b[0mf\u001b[0m\u001b[1;33m:\u001b[0m\u001b[1;33m\u001b[0m\u001b[1;33m\u001b[0m\u001b[0m\n\u001b[0m\u001b[0;32m     26\u001b[0m     \u001b[0mpd_list\u001b[0m \u001b[1;33m=\u001b[0m \u001b[0mpickle\u001b[0m\u001b[1;33m.\u001b[0m\u001b[0mload\u001b[0m\u001b[1;33m(\u001b[0m\u001b[0mf\u001b[0m\u001b[1;33m)\u001b[0m\u001b[1;33m\u001b[0m\u001b[1;33m\u001b[0m\u001b[0m\n\u001b[0;32m     27\u001b[0m \u001b[1;33m\u001b[0m\u001b[0m\n",
      "\u001b[1;31mFileNotFoundError\u001b[0m: [Errno 2] No such file or directory: 'pd_list_full_with_rewards_original_seq4.pkl'"
     ]
    }
   ],
   "source": [
    "# saved_model_dir = \"saved_model/\"\n",
    "# if not os.path.exists(saved_model_dir):\n",
    "#     os.makedirs(saved_model_dir)\n",
    "# tf.reset_default_graph()\n",
    "\n",
    "saving_dir =os.getcwd() \n",
    "if not os.path.exists(saving_dir):\n",
    "    os.makedirs(saving_dir)\n",
    "\n",
    "# fix random seed for reproducibility\n",
    "np.random.seed(7)\n",
    "# set_random_seed(7)\n",
    "\n",
    "NUM_LAYERS = 1\n",
    "HIDDEN_SIZE = 64\n",
    "TRAIN_EPOCHS = 300\n",
    "\n",
    "print_iter = 50\n",
    "\n",
    "TRAIN_NUM_STEPS = 4\n",
    "TRAIN_BATCHES = 2048\n",
    "\n",
    "\n",
    "seq_length = 4\n",
    "with open('pd_list_full_with_rewards_original_seq4.pkl', 'rb') as f:\n",
    "    pd_list = pickle.load(f)\n",
    "\n",
    "with open('huge_pd_shuffled_with_rewards_original_seq4_SHUFFLED.pkl', 'rb') as f:\n",
    "    huge_pd = pickle.load(f)"
   ]
  },
  {
   "cell_type": "code",
   "execution_count": 4,
   "metadata": {},
   "outputs": [],
   "source": [
    "def convert_to_array(csv_cell_string):\n",
    "    \"\"\"\n",
    "    Gets a string that looks like an array, and returns an actual array\n",
    "    \"\"\"\n",
    "    return np.fromstring(csv_cell_string.replace('[','').replace(']',''), sep=',')"
   ]
  },
  {
   "cell_type": "code",
   "execution_count": 5,
   "metadata": {},
   "outputs": [],
   "source": [
    "# load simulation results\n",
	"general_output = pd.read_csv(os.path.join(saving_dir,'exploratory_softmax_values.csv'),index_col=0)\n",
    "qlearning_output = pd.read_csv(os.path.join(saving_dir, 'reward_oriented_softmax_values.csv'),index_col=0)\n",
    "no_reward_output = pd.read_csv(os.path.join(saving_dir,'reward_oblivious_softmax_values.csv'),index_col=0)\n",
    "\n",
    "# convert to arrays\n",
    "general_output_df = general_output.applymap(convert_to_array)\n",
    "qlearning_output_df = qlearning_output.applymap(convert_to_array)\n",
    "no_reward_output_df = no_reward_output.applymap(convert_to_array)\n",
    "\n"
   ]
  },
  {
   "cell_type": "markdown",
   "metadata": {},
   "source": [
    "#### convetion : simulation input will be 1-4 , predictions are actually 0-3 and so converted to 1-4\n",
    "##### (the model gets 0-3 and outpus 0-3)"
   ]
  },
  {
   "cell_type": "code",
   "execution_count": 6,
   "metadata": {
    "scrolled": true
   },
   "outputs": [
    {
     "data": {
      "text/plain": [
       "'\"\\nimport matplotlib as mpl\\nmpl.use(\\'svg\\')\\nnew_rc_params = {\\n    \"font.size\": 12, #choosing the font size helps latex to place all the labels, ticks etc. in the right place\\n    \"svg.fonttype\": \\'none\\',\\n    \\'figure.max_open_warning\\': 0\\n} \\nmpl.rcParams.update(new_rc_params)\\n#     \"font.weight\":700\\nplt.rcParams[\\'axes.facecolor\\'] = \\'0.95\\'\\n'"
      ]
     },
     "execution_count": 6,
     "metadata": {},
     "output_type": "execute_result"
    }
   ],
   "source": [
    "\"\"\"\"\n",
    "import matplotlib as mpl\n",
    "mpl.use('svg')\n",
    "new_rc_params = {\n",
    "    \"font.size\": 12, #choosing the font size helps latex to place all the labels, ticks etc. in the right place\n",
    "    \"svg.fonttype\": 'none',\n",
    "    'figure.max_open_warning': 0\n",
    "} \n",
    "mpl.rcParams.update(new_rc_params)\n",
    "#     \"font.weight\":700\n",
    "plt.rcParams['axes.facecolor'] = '0.95'\n",
    "\"\"\""
   ]
  },
  {
   "cell_type": "code",
   "execution_count": 7,
   "metadata": {
    "scrolled": true
   },
   "outputs": [],
   "source": [
    "def produce_comparison_df(full_df, maybe_full_df, dist_func):\n",
    "    \"\"\"\n",
    "    Distance compare. Gets 2 dataframes (ideally holds the simulation results) and calculate a difference based on a distance function (dist_func).\n",
    "    The 2 dataframes should be in the same shape.\n",
    "    \"\"\"\n",
    "    softmax_compare = []\n",
    "    for a_row, b_row in zip(full_df.to_numpy(), maybe_full_df.to_numpy()):\n",
    "        row_predictions_compare = []\n",
    "        for a_out, b_out in zip(a_row, b_row):\n",
    "            row_predictions_compare.append(dist_func(a_out, b_out))\n",
    "        softmax_compare.append(row_predictions_compare)\n",
    "    predict_compare_df = pd.DataFrame(np.asmatrix(softmax_compare), index=full_df.index, columns=full_df.columns)\n",
    "    return predict_compare_df\n"
   ]
  },
  {
   "cell_type": "code",
   "execution_count": 8,
   "metadata": {
    "scrolled": true
   },
   "outputs": [],
   "source": [
    "################## V5.1 FULL #############################\n",
    "#  Also, not plotting one_different pattern row\n",
    "##########################################################\n",
    "# Patterns:\n",
    "constant_group = ['1 1 1 1', '2 2 2 2', '3 3 3 3', '4 4 4 4']\n",
    "one_different = ['2 2 2 1', '4 2 2 2', '2 2 2 4', '1 2 2 2', '3 2 2 2', '2 3 3 3', '2 1 1 1']\n",
    "repeating_two = ['1 2 1 2', '2 1 2 1', '2 3 2 3', '3 2 3 2', '4 3 4 3', '3 4 3 4']\n",
    "all_different = ['1 2 3 4', '4 3 2 1', '2 3 4 1', '1 4 3 2', '3 4 1 2', '2 1 4 3', '4 1 2 3', '3 2 1 4']\n",
    "\n",
    "all_patterns_groups = [constant_group, one_different, repeating_two, all_different]\n",
    "\n",
    "\n",
    "# Rewards:\n",
    "Constant = ['10 10 10 10', '15 15 15 15', '20 20 20 20', '25 25 25 25', '30 30 30 30', '35 35 35 35',\n",
    "                      '70 70 70 70', '75 75 75 75', '80 80 80 80', '85 85 85 85', '90 90 90 90']\n",
    "\n",
    "Ascending = [ '10 30 50 70', '10 40 70 90', \n",
    "             '40 60 80 90', '20 30 70 80']\n",
    "\n",
    "\n",
    "\n",
    "Descending= [    '70 50 30 10', '75 55 35 15', '80 60 40 20', '85 65 45 25',\n",
    "                  '90 70 40 10', '90 60 30 10', '90 50 30 10', '90 40 30 20', '90 30 20 10', '60 30 20 10','90 80 70 60',  \n",
    "                 '90 70 50 30',  '95 75 55 35']\n",
    "\n",
    "\n",
    "\n",
    "all_rewards_groups = [Constant,Ascending,Descending]"
   ]
  },
  {
   "cell_type": "code",
   "execution_count": 9,
   "metadata": {
    "scrolled": true
   },
   "outputs": [],
   "source": [
    "all_rewards = []\n",
    "for i in all_rewards_groups:\n",
    "    for j in i:\n",
    "        all_rewards.append(j)\n",
    "        \n",
    "all_patterns = []\n",
    "for i in all_patterns_groups:\n",
    "    for j in i:\n",
    "        all_patterns.append(j)"
   ]
  },
  {
   "cell_type": "code",
   "execution_count": 10,
   "metadata": {
    "scrolled": true
   },
   "outputs": [],
   "source": [
    "def get_res_table(compare_df, reward_groups, pattern_groups, dim=(4,8), remove_one_diff_pattern=True):\n",
    "    \"\"\"\n",
    "    compare_df: output from produce_comparison_df()\n",
    "    reward_groups, pattern_groups: the input groups for the simulation.\n",
    "    Return the average of the groups, ready to be plotted\n",
    "    \"\"\"\n",
    "    res = np.zeros(dim)\n",
    "    for col_ind, col in enumerate(reward_groups):\n",
    "\n",
    "        for group_ind, group in enumerate(pattern_groups):\n",
    "            group_avg = []\n",
    "            for idx in group:\n",
    "                if not math.isinf(np.average(compare_df.loc[idx,col])):\n",
    "                    if np.average(compare_df.loc[idx,col])>0:\n",
    "                        group_avg.append(np.average(compare_df.loc[idx,col]))\n",
    "                    else:\n",
    "                        group_avg.append(0.001)\n",
    "                else:\n",
    "                    print(compare_df.loc[idx,col])\n",
    "                 \n",
    "\n",
    "                        \n",
    "            res[group_ind,col_ind] = np.average(group_avg)\n",
    "\n",
    "    res = pd.DataFrame(res,index=['Constant','one different','Alternating','All Different'],\n",
    "                   columns=['constant','Ascending','Descending'])\n",
    "    if remove_one_diff_pattern:\n",
    "        res.drop(index='one different', inplace=True)\n",
    "\n",
    "    return res"
   ]
  },
  {
   "cell_type": "code",
   "execution_count": 11,
   "metadata": {
    "scrolled": true
   },
   "outputs": [],
   "source": [
    "def produce_consent_table(res_table, title):\n",
    "#     title = \"custom prediction comparison - Generated vs Original data - IN GROUPS V4\"\n",
    "    my_pcolor_font_dict = {\n",
    "        'fontsize': 36,\n",
    "        'weight': 'bold',\n",
    "    }\n",
    "    xlabel= \"Reward group\"\n",
    "    ylabel= \"Pattern group\"\n",
    "    data =  np.asarray(res_table)\n",
    "    text_val = np.asmatrix(res_table)\n",
    "    plt.clf()\n",
    "    fig = plt.gcf()\n",
    "    plt.figure(figsize=(5, 5))\n",
    "    plt.title(title)\n",
    "    plt.xlabel(xlabel,fontsize=26)\n",
    "    plt.ylabel(ylabel,fontsize=26)\n",
    "    plt.xticks(range(0,res_table.shape[1]),res_table.columns, fontsize=20)\n",
    "    y_ticks=plt.yticks(range(0,res_table.shape[0]),res_table.index, fontsize=20)\n",
    "    c = plt.pcolor(data, edgecolors='k', linewidths=4, cmap='Spectral_r', vmin=0.0, vmax=1.5)\n",
    "\n",
    "    def show_values(pc, fmt=\"%.2f\", **kw):\n",
    "        pc.update_scalarmappable()\n",
    "        ax = pc.axes\n",
    "        it = np.nditer(text_val[::,:].ravel(), flags=['f_index'])\n",
    "        for p, color, value in zip(pc.get_paths(), pc.get_facecolors(), pc.get_array()):\n",
    "            x, y = p.vertices[:-2, :].mean(0)\n",
    "\n",
    "            if np.all(color[:3] > 0.5):\n",
    "                color = (0.0, 0.0, 0.0)\n",
    "            else:\n",
    "                color = (1.0, 1.0, 1.0)\n",
    "            ax.text(x, y, format(it[0],'.3f'), ha=\"center\", va=\"center\", color=color,fontsize=26,fontdict=my_pcolor_font_dict, **kw)\n",
    "            it.iternext()\n",
    "    show_values(c)\n",
    "\n",
    "    plt.colorbar(c, aspect=10, pad=0.02)\n",
    "    \n",
    "    plt.savefig(os.path.join(saving_dir, title.replace(' ','_')+'.svg'),quality=95,dpi=200, format='svg')"
   ]
  },
  {
   "cell_type": "markdown",
   "metadata": {},
   "source": [
    " - General vs reward-oriented\n",
    " - General vs no-reward\n",
    " - Reward Oriented vs no-reward "
   ]
  },
  {
   "cell_type": "markdown",
   "metadata": {},
   "source": [
    "### no reward vs general"
   ]
  },
  {
   "cell_type": "code",
   "execution_count": 12,
   "metadata": {},
   "outputs": [],
   "source": [
    "# stretch no-reward to be the same shape as general\n",
    "for col in general_output_df.columns:\n",
    "    no_reward_output_df[col] = no_reward_output_df['output']\n",
    "no_reward_output_df.drop(columns=['output'],inplace=True)"
   ]
  },
  {
   "cell_type": "code",
   "execution_count": 13,
   "metadata": {},
   "outputs": [],
   "source": [
    "def dist_fun(P,Q):\n",
    "\n",
    "    Res1=sum(special.rel_entr(P, Q))\n",
    "    Res2=sum(special.rel_entr(Q, P))\n",
    "    Res=0.5*Res1+0.5*Res2\n",
    "\n",
    "    return Res\n",
    "\n",
    "\n",
    "nr_gen_compare_df = produce_comparison_df(general_output_df, no_reward_output_df, dist_func=dist_fun)"
   ]
  },
  {
   "cell_type": "code",
   "execution_count": 14,
   "metadata": {
    "scrolled": true
   },
   "outputs": [],
   "source": [
    "nr_gen_compare_df.to_csv(os.path.join(saving_dir,'reward_oblivious_vs_general_distance.csv'))"
   ]
  },
  {
   "cell_type": "code",
   "execution_count": 15,
   "metadata": {},
   "outputs": [],
   "source": [
    "nr_gen_compare_res = get_res_table(nr_gen_compare_df,reward_groups=all_rewards_groups,pattern_groups=all_patterns_groups, dim=(4,3))"
   ]
  },
  {
   "cell_type": "code",
   "execution_count": 16,
   "metadata": {},
   "outputs": [],
   "source": [
    "nr_gen_compare_res.to_csv(os.path.join(saving_dir,'reward_oblivious_vs_general_distance_group_avg.csv'))"
   ]
  },
  {
   "cell_type": "code",
   "execution_count": 17,
   "metadata": {
    "scrolled": true
   },
   "outputs": [],
   "source": [
    "produce_consent_table(nr_gen_compare_res, title=\"Exploratory and Reward-Oblivious Models' Distance\")"
   ]
  },
  {
   "cell_type": "markdown",
   "metadata": {},
   "source": [
    "-------------------------"
   ]
  },
  {
   "cell_type": "markdown",
   "metadata": {},
   "source": [
    "## qlearning model vs others"
   ]
  },
  {
   "cell_type": "code",
   "execution_count": 18,
   "metadata": {
    "scrolled": true
   },
   "outputs": [],
   "source": [
    "\n",
    "\n",
    "gen_qlearn_compare_df = produce_comparison_df(general_output_df, qlearning_output_df, dist_func=dist_fun)#distance.euclidean)\n",
    "gen_qlearn_compare_df.to_csv(os.path.join(saving_dir,'general_vs_reward_oriented_distance.csv'))\n",
    "gen_qlearn_compare_res = get_res_table(gen_qlearn_compare_df,reward_groups=all_rewards_groups,pattern_groups=all_patterns_groups, dim=(4,3))\n",
    "gen_qlearn_compare_res.to_csv(os.path.join(saving_dir,'general_vs_reward_oriented_distance_group_avg.csv'))\n",
    "\n",
    "no_reward_qlearn_compare_df = produce_comparison_df(no_reward_output_df, qlearning_output_df, dist_func=dist_fun)#distance.euclidean)\n",
    "no_reward_qlearn_compare_df.to_csv(os.path.join(saving_dir,'reward_oblivious_vs_reward_oriented_distance_group_avg.csv'))\n",
    "no_reward_qlearn_compare_res = get_res_table(no_reward_qlearn_compare_df,reward_groups=all_rewards_groups,pattern_groups=all_patterns_groups, dim=(4,3))\n",
    "# no_reward_qlearn_compare_res.to_csv(os.path.join(saving_dir,'reward_oblivious_vs_reward_oriented_distance.csv'))\n",
    "\n",
    "produce_consent_table(gen_qlearn_compare_res, title=\"Exploratory and Reward-Oriented Models' Distance\")\n",
    "\n",
    "produce_consent_table(no_reward_qlearn_compare_res, title=\"Reward-Oriented and Reward-Oblivious Models' Distance\")\n"
   ]
  }
 ],
 "metadata": {
  "kernelspec": {
   "display_name": "Python 3",
   "language": "python",
   "name": "python3"
  },
  "language_info": {
   "codemirror_mode": {
    "name": "ipython",
    "version": 3
   },
   "file_extension": ".py",
   "mimetype": "text/x-python",
   "name": "python",
   "nbconvert_exporter": "python",
   "pygments_lexer": "ipython3",
   "version": "3.7.3"
  }
 },
 "nbformat": 4,
 "nbformat_minor": 4
}
